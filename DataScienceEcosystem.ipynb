{
 "cells": [
  {
   "cell_type": "markdown",
   "id": "56f88a80-11f9-4858-b464-63af78d3738e",
   "metadata": {},
   "source": [
    "Q2. # Data Science Tools and Ecosystem"
   ]
  },
  {
   "cell_type": "markdown",
   "id": "d087584c-bd0c-4334-a778-c4deeda9d745",
   "metadata": {},
   "source": [
    "Q3. In this notebook, Data Science Tools and Ecosystem are summarized.\n",
    "\n",
    "- **List popular languages for data Science**\n",
    "- **List the commonly used libraries used by Data Scientists**\n",
    "- **List three development environment open source tools in data science**"
   ]
  },
  {
   "cell_type": "markdown",
   "id": "197f8727-fe47-4813-9836-1bee461cc64d",
   "metadata": {},
   "source": [
    "Q4.\n",
    "1. Python\n",
    "2. R\n",
    "3. SQL"
   ]
  },
  {
   "cell_type": "markdown",
   "id": "2ff401eb-0337-4364-ab85-b4d81c98a054",
   "metadata": {},
   "source": [
    "Q5.\n",
    "1. Numpy\n",
    "2. Pandas\n",
    "3. Scikit-learn"
   ]
  },
  {
   "cell_type": "markdown",
   "id": "3c5980ed-5643-4818-bf39-00602884cd8b",
   "metadata": {},
   "source": [
    "Q6\n",
    "|Data science Tools|\n",
    "|------------------|\n",
    "|Jupyter Notebook|\n",
    "|RStudio|\n",
    "|VS Code|"
   ]
  },
  {
   "cell_type": "markdown",
   "id": "f969e0db-c0ca-4095-8712-f46f71c638cb",
   "metadata": {},
   "source": [
    "Q7.\n",
    "## Below are a few examples of evaluation arithmetic expression in Python"
   ]
  },
  {
   "cell_type": "markdown",
   "id": "7c047418-c137-476f-924d-50450add4c23",
   "metadata": {},
   "source": [
    "Q8."
   ]
  },
  {
   "cell_type": "code",
   "execution_count": 3,
   "id": "53e97bb0-9589-44fb-aba1-5bb63b94dbb0",
   "metadata": {},
   "outputs": [
    {
     "data": {
      "text/plain": [
       "17"
      ]
     },
     "execution_count": 3,
     "metadata": {},
     "output_type": "execute_result"
    }
   ],
   "source": [
    "#This a simple arithmetic expression to multiply then add integers. \n",
    "result= (3*4)+5\n",
    "result"
   ]
  },
  {
   "cell_type": "markdown",
   "id": "9bff0984-56bc-425f-92da-bfb6ba69182f",
   "metadata": {},
   "source": [
    "Q9."
   ]
  },
  {
   "cell_type": "code",
   "execution_count": 4,
   "id": "3a9776dd-b2e2-4665-91e9-49e86fd8c5d7",
   "metadata": {},
   "outputs": [
    {
     "data": {
      "text/plain": [
       "3.3333333333333335"
      ]
     },
     "execution_count": 4,
     "metadata": {},
     "output_type": "execute_result"
    }
   ],
   "source": [
    "#This is convert 200 minutes to hours by diving by 60.\n",
    "Hours = 200/60\n",
    "Hours"
   ]
  },
  {
   "cell_type": "markdown",
   "id": "8bec0e2c-c774-4b37-8390-48dae8e5a628",
   "metadata": {},
   "source": [
    "Q11.\n",
    "\n",
    "## Author\n",
    "Kai"
   ]
  },
  {
   "cell_type": "code",
   "execution_count": null,
   "id": "28969674-d75e-47b7-bb6c-6ec629f41664",
   "metadata": {},
   "outputs": [],
   "source": []
  }
 ],
 "metadata": {
  "kernelspec": {
   "display_name": "Python 3 (ipykernel)",
   "language": "python",
   "name": "python3"
  },
  "language_info": {
   "codemirror_mode": {
    "name": "ipython",
    "version": 3
   },
   "file_extension": ".py",
   "mimetype": "text/x-python",
   "name": "python",
   "nbconvert_exporter": "python",
   "pygments_lexer": "ipython3",
   "version": "3.11.7"
  }
 },
 "nbformat": 4,
 "nbformat_minor": 5
}
